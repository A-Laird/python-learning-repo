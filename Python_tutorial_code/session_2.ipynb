{
 "cells": [
  {
   "cell_type": "code",
   "execution_count": 1,
   "metadata": {},
   "outputs": [
    {
     "name": "stdout",
     "output_type": "stream",
     "text": [
      "['red', 'blue', 'green']\n",
      "['red', 'blue', 'green', 'black', 'white']\n"
     ]
    }
   ],
   "source": [
    "colours = [\"red\", 'blue', 'green']\n",
    "print(colours)\n",
    "\n",
    "extra_colurs = [\"black\", \"white\"]\n",
    "colours.extend(extra_colurs)\n",
    "\n",
    "print(colours)"
   ]
  },
  {
   "cell_type": "code",
   "execution_count": 2,
   "metadata": {},
   "outputs": [
    {
     "name": "stdout",
     "output_type": "stream",
     "text": [
      "['Pizza', 'Pasta', 'Pork Chops', 'Pies', 'Pineapple']\n",
      "['Pizza', 'Pasta', 'Pork Chops', 'Pies', 'Pineapple', 'bread', 'beans', 'Bananas']\n",
      "['Pizza', 'Pasta', 'Pork Chops', 'Pies', 'Pineapple', 'beans', 'Bananas']\n"
     ]
    }
   ],
   "source": [
    "P_Foods = [\"Pizza\", \"Pasta\", \"Pork Chops\", \"Pies\"]\n",
    "P_Foods.append(\"Pineapple\")\n",
    "print(P_Foods)\n",
    "\n",
    "B_Foods = [\"bread\", \"beans\", \"Bananas\"]\n",
    "P_Foods.extend(B_Foods)\n",
    "print(P_Foods)\n",
    "\n",
    "P_Foods.remove(\"bread\")\n",
    "print(P_Foods)"
   ]
  },
  {
   "cell_type": "code",
   "execution_count": 3,
   "metadata": {},
   "outputs": [
    {
     "name": "stdout",
     "output_type": "stream",
     "text": [
      "[2, 3, 4, 5, 6, 7, 8, 9]\n"
     ]
    }
   ],
   "source": [
    "numbers = [3,2,4,5,7,6,9,8]\n",
    "print(sorted(numbers))"
   ]
  },
  {
   "cell_type": "code",
   "execution_count": 4,
   "metadata": {},
   "outputs": [
    {
     "name": "stdout",
     "output_type": "stream",
     "text": [
      "{'Name': 'Andy', 'Age': 35, 'Food': ['Pizza', 'Pasta', 'Pork Chops', 'Pies', 'Pineapple', 'beans', 'Bananas'], 'Colour': ['red', 'blue', 'green', 'black', 'white']}\n",
      "['Pizza', 'Pasta', 'Pork Chops', 'Pies', 'Pineapple', 'beans', 'Bananas']\n"
     ]
    }
   ],
   "source": [
    "andy = {\"Name\":\"Andy\",\n",
    "        \"Age\":35,\n",
    "        \"Food\":P_Foods,\n",
    "        \"Colour\":colours}\n",
    "print(andy)\n",
    "print(andy[\"Food\"])"
   ]
  },
  {
   "cell_type": "code",
   "execution_count": 5,
   "metadata": {},
   "outputs": [
    {
     "name": "stdout",
     "output_type": "stream",
     "text": [
      "dict_keys(['Will', 'Andy', 'Anna', 'Dave'])\n",
      "dict_values(['Blue', ['purple', 'teal'], {'Weekday': 'red', 'Weekend': 'black'}, 'Pink'])\n",
      "{'Weekday': 'red', 'Weekend': 'black'}\n",
      "dict_items([('Will', 'Blue'), ('Andy', ['purple', 'teal']), ('Anna', {'Weekday': 'red', 'Weekend': 'black'}), ('Dave', 'Pink')])\n"
     ]
    }
   ],
   "source": [
    "fav_col = {\"Will\":\"Blue\",\n",
    "           \"Andy\":[\"purple\", \"teal\"],\n",
    "           \"Anna\":{\"Weekday\":\"red\",\n",
    "                   \"Weekend\":\"black\"}\n",
    "            }\n",
    "\n",
    "fav_col[\"Dave\"] = \"Pink\"\n",
    "print(fav_col.keys())\n",
    "print(fav_col.values())\n",
    "print(fav_col[\"Anna\"])#\n",
    "print(fav_col.items())\n",
    "\n"
   ]
  },
  {
   "cell_type": "code",
   "execution_count": 6,
   "metadata": {},
   "outputs": [
    {
     "name": "stdout",
     "output_type": "stream",
     "text": [
      "dict_keys(['Andy', 'Dave', 'Bob', 'Sue'])\n",
      "dict_values(['Boss', ['Sales Manager', 'Chef'], 'Senior Sales Assistant', 'Accounts'])\n",
      "dict_items([('Andy', 'Boss'), ('Dave', ['Sales Manager', 'Chef']), ('Bob', 'Senior Sales Assistant'), ('Sue', 'Accounts')])\n"
     ]
    }
   ],
   "source": [
    "employees = {\"Andy\":\"Boss\",\n",
    "             \"Dave\":[\"Sales Manager\", \"Chef\"],\n",
    "              \"Bob\":\"Sales\"}\n",
    "employees[\"Sue\"] = \"Accounts\"\n",
    "employees[\"Bob\"] = \"Senior Sales Assistant\"\n",
    "print(employees.keys())\n",
    "print(employees.values())\n",
    "print(employees.items())"
   ]
  }
 ],
 "metadata": {
  "kernelspec": {
   "display_name": "Python 3",
   "language": "python",
   "name": "python3"
  },
  "language_info": {
   "codemirror_mode": {
    "name": "ipython",
    "version": 3
   },
   "file_extension": ".py",
   "mimetype": "text/x-python",
   "name": "python",
   "nbconvert_exporter": "python",
   "pygments_lexer": "ipython3",
   "version": "3.10.13"
  }
 },
 "nbformat": 4,
 "nbformat_minor": 2
}
