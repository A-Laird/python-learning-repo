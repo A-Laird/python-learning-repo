{
 "cells": [
  {
   "cell_type": "code",
   "execution_count": 6,
   "metadata": {},
   "outputs": [
    {
     "name": "stdout",
     "output_type": "stream",
     "text": [
      "<class 'pandas.core.frame.DataFrame'>\n",
      "RangeIndex: 332 entries, 0 to 331\n",
      "Data columns (total 9 columns):\n",
      " #   Column                   Non-Null Count  Dtype  \n",
      "---  ------                   --------------  -----  \n",
      " 0   Unnamed: 0               332 non-null    int64  \n",
      " 1   LAchildID                332 non-null    object \n",
      " 2   UPN                      332 non-null    object \n",
      " 3   FormerUPN                0 non-null      float64\n",
      " 4   UPNunknown               0 non-null      float64\n",
      " 5   PersonBirthDate          332 non-null    object \n",
      " 6   ExpectedPersonBirthDate  7 non-null      object \n",
      " 7   GenderCurrent            332 non-null    int64  \n",
      " 8   PersonDeathDate          21 non-null     object \n",
      "dtypes: float64(2), int64(2), object(5)\n",
      "memory usage: 23.5+ KB\n"
     ]
    },
    {
     "data": {
      "text/html": [
       "<div>\n",
       "<style scoped>\n",
       "    .dataframe tbody tr th:only-of-type {\n",
       "        vertical-align: middle;\n",
       "    }\n",
       "\n",
       "    .dataframe tbody tr th {\n",
       "        vertical-align: top;\n",
       "    }\n",
       "\n",
       "    .dataframe thead th {\n",
       "        text-align: right;\n",
       "    }\n",
       "</style>\n",
       "<table border=\"1\" class=\"dataframe\">\n",
       "  <thead>\n",
       "    <tr style=\"text-align: right;\">\n",
       "      <th></th>\n",
       "      <th>Unnamed: 0</th>\n",
       "      <th>LAchildID</th>\n",
       "      <th>UPN</th>\n",
       "      <th>FormerUPN</th>\n",
       "      <th>UPNunknown</th>\n",
       "      <th>PersonBirthDate</th>\n",
       "      <th>ExpectedPersonBirthDate</th>\n",
       "      <th>GenderCurrent</th>\n",
       "      <th>PersonDeathDate</th>\n",
       "    </tr>\n",
       "  </thead>\n",
       "  <tbody>\n",
       "    <tr>\n",
       "      <th>0</th>\n",
       "      <td>0</td>\n",
       "      <td>RND000215205141</td>\n",
       "      <td>A850728973744</td>\n",
       "      <td>NaN</td>\n",
       "      <td>NaN</td>\n",
       "      <td>2019-12-06</td>\n",
       "      <td>NaN</td>\n",
       "      <td>1</td>\n",
       "      <td>NaN</td>\n",
       "    </tr>\n",
       "    <tr>\n",
       "      <th>1</th>\n",
       "      <td>1</td>\n",
       "      <td>RND000824303014</td>\n",
       "      <td>A141396438491</td>\n",
       "      <td>NaN</td>\n",
       "      <td>NaN</td>\n",
       "      <td>2011-04-27</td>\n",
       "      <td>NaN</td>\n",
       "      <td>9</td>\n",
       "      <td>NaN</td>\n",
       "    </tr>\n",
       "    <tr>\n",
       "      <th>2</th>\n",
       "      <td>2</td>\n",
       "      <td>RND000750143123</td>\n",
       "      <td>A929946861554</td>\n",
       "      <td>NaN</td>\n",
       "      <td>NaN</td>\n",
       "      <td>2017-06-06</td>\n",
       "      <td>2019-12-06</td>\n",
       "      <td>1</td>\n",
       "      <td>NaN</td>\n",
       "    </tr>\n",
       "    <tr>\n",
       "      <th>3</th>\n",
       "      <td>3</td>\n",
       "      <td>RND000909164501</td>\n",
       "      <td>A612330267292</td>\n",
       "      <td>NaN</td>\n",
       "      <td>NaN</td>\n",
       "      <td>2014-10-03</td>\n",
       "      <td>NaN</td>\n",
       "      <td>0</td>\n",
       "      <td>NaN</td>\n",
       "    </tr>\n",
       "    <tr>\n",
       "      <th>4</th>\n",
       "      <td>4</td>\n",
       "      <td>RND000382171815</td>\n",
       "      <td>A604459366806</td>\n",
       "      <td>NaN</td>\n",
       "      <td>NaN</td>\n",
       "      <td>2019-09-25</td>\n",
       "      <td>NaN</td>\n",
       "      <td>2</td>\n",
       "      <td>NaN</td>\n",
       "    </tr>\n",
       "  </tbody>\n",
       "</table>\n",
       "</div>"
      ],
      "text/plain": [
       "   Unnamed: 0        LAchildID            UPN  FormerUPN  UPNunknown  \\\n",
       "0           0  RND000215205141  A850728973744        NaN         NaN   \n",
       "1           1  RND000824303014  A141396438491        NaN         NaN   \n",
       "2           2  RND000750143123  A929946861554        NaN         NaN   \n",
       "3           3  RND000909164501  A612330267292        NaN         NaN   \n",
       "4           4  RND000382171815  A604459366806        NaN         NaN   \n",
       "\n",
       "  PersonBirthDate ExpectedPersonBirthDate  GenderCurrent PersonDeathDate  \n",
       "0      2019-12-06                     NaN              1             NaN  \n",
       "1      2011-04-27                     NaN              9             NaN  \n",
       "2      2017-06-06              2019-12-06              1             NaN  \n",
       "3      2014-10-03                     NaN              0             NaN  \n",
       "4      2019-09-25                     NaN              2             NaN  "
      ]
     },
     "execution_count": 6,
     "metadata": {},
     "output_type": "execute_result"
    }
   ],
   "source": [
    "import pandas as pd\n",
    "\n",
    "filepath = r\"https://raw.githubusercontent.com/data-to-insight/ERN-sessions/main/data/ChildIdentifiers.csv\"\n",
    "\n",
    "df = pd.read_csv(filepath)\n",
    "\n",
    "df\n",
    "\n",
    "df.info()\n",
    "df.head()\n",
    "#df.tail()"
   ]
  },
  {
   "cell_type": "code",
   "execution_count": 10,
   "metadata": {},
   "outputs": [
    {
     "name": "stdout",
     "output_type": "stream",
     "text": [
      "<class 'pandas.core.frame.DataFrame'>\n",
      "RangeIndex: 332 entries, 0 to 331\n",
      "Data columns (total 9 columns):\n",
      " #   Column                   Non-Null Count  Dtype         \n",
      "---  ------                   --------------  -----         \n",
      " 0   Unnamed: 0               332 non-null    int64         \n",
      " 1   LAchildID                332 non-null    object        \n",
      " 2   UPN                      332 non-null    object        \n",
      " 3   FormerUPN                0 non-null      float64       \n",
      " 4   UPNunknown               0 non-null      float64       \n",
      " 5   PersonBirthDate          332 non-null    datetime64[ns]\n",
      " 6   ExpectedPersonBirthDate  7 non-null      object        \n",
      " 7   GenderCurrent            332 non-null    int64         \n",
      " 8   PersonDeathDate          21 non-null     object        \n",
      "dtypes: datetime64[ns](1), float64(2), int64(2), object(4)\n",
      "memory usage: 23.5+ KB\n"
     ]
    }
   ],
   "source": [
    "df['PersonBirthDate'] = pd.to_datetime(df['PersonBirthDate'], format=\"%Y-%m-%d\")\n",
    "\n",
    "df.info()"
   ]
  },
  {
   "cell_type": "code",
   "execution_count": 12,
   "metadata": {},
   "outputs": [
    {
     "name": "stdout",
     "output_type": "stream",
     "text": [
      "<class 'pandas.core.frame.DataFrame'>\n",
      "RangeIndex: 332 entries, 0 to 331\n",
      "Data columns (total 9 columns):\n",
      " #   Column                   Non-Null Count  Dtype         \n",
      "---  ------                   --------------  -----         \n",
      " 0   Unnamed: 0               332 non-null    int64         \n",
      " 1   LAchildID                332 non-null    object        \n",
      " 2   UPN                      332 non-null    object        \n",
      " 3   FormerUPN                0 non-null      float64       \n",
      " 4   UPNunknown               0 non-null      float64       \n",
      " 5   PersonBirthDate          332 non-null    datetime64[ns]\n",
      " 6   ExpectedPersonBirthDate  7 non-null      datetime64[ns]\n",
      " 7   GenderCurrent            332 non-null    int64         \n",
      " 8   PersonDeathDate          21 non-null     object        \n",
      "dtypes: datetime64[ns](2), float64(2), int64(2), object(3)\n",
      "memory usage: 23.5+ KB\n"
     ]
    }
   ],
   "source": [
    "df['ExpectedPersonBirthDate'] = pd.to_datetime(df['ExpectedPersonBirthDate'], format=\"%Y-%m-%d\")\n",
    "\n",
    "df.info()"
   ]
  },
  {
   "cell_type": "code",
   "execution_count": 13,
   "metadata": {},
   "outputs": [
    {
     "data": {
      "text/plain": [
       "0       4\n",
       "1      13\n",
       "2       7\n",
       "3       9\n",
       "4       4\n",
       "       ..\n",
       "327    13\n",
       "328     5\n",
       "329     2\n",
       "330    10\n",
       "331     2\n",
       "Name: Age of child, Length: 332, dtype: int64"
      ]
     },
     "execution_count": 13,
     "metadata": {},
     "output_type": "execute_result"
    }
   ],
   "source": [
    "df['Age of child'] = pd.to_datetime('today') - df['PersonBirthDate']\n",
    "\n",
    "df['Age of child'] = df['Age of child'] / pd.Timedelta(365.25, 'd')\n",
    "df['Age of child'] = df['Age of child'].astype('int')\n",
    "\n",
    "df['Age of child']"
   ]
  }
 ],
 "metadata": {
  "kernelspec": {
   "display_name": "Python 3",
   "language": "python",
   "name": "python3"
  },
  "language_info": {
   "codemirror_mode": {
    "name": "ipython",
    "version": 3
   },
   "file_extension": ".py",
   "mimetype": "text/x-python",
   "name": "python",
   "nbconvert_exporter": "python",
   "pygments_lexer": "ipython3",
   "version": "3.10.13"
  }
 },
 "nbformat": 4,
 "nbformat_minor": 2
}
