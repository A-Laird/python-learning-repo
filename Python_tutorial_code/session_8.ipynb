{
 "cells": [
  {
   "cell_type": "code",
   "execution_count": 1,
   "metadata": {},
   "outputs": [
    {
     "name": "stdout",
     "output_type": "stream",
     "text": [
      "0\n",
      "1\n",
      "2\n",
      "3\n",
      "4\n",
      "5\n",
      "6\n",
      "7\n",
      "8\n",
      "9\n"
     ]
    }
   ],
   "source": [
    "for item in list(range(10)):\n",
    "    print(item)"
   ]
  },
  {
   "cell_type": "code",
   "execution_count": null,
   "metadata": {},
   "outputs": [],
   "source": [
    "def fn(param_1):\n",
    "    print(\"you're running the fn function\")\n",
    "\n",
    "fn()\n",
    "\n"
   ]
  },
  {
   "cell_type": "code",
   "execution_count": 6,
   "metadata": {},
   "outputs": [
    {
     "name": "stdout",
     "output_type": "stream",
     "text": [
      "13\n",
      "9\n",
      "The sum of 13 and 9 is 22.\n",
      "5\n",
      "10\n",
      "The sum of 5 and 10 is 15.\n",
      "4\n",
      "3\n",
      "The sum of 4 and 3 is 7.\n"
     ]
    }
   ],
   "source": [
    "def fxy(x=13, y=9):\n",
    "    print(x)\n",
    "    print(y)\n",
    "    print(f'The sum of {x} and {y} is {x + y}.')\n",
    "fxy()\n",
    "fxy(5, 10)\n",
    "\n",
    "fxy(y=3, x=4)"
   ]
  },
  {
   "cell_type": "code",
   "execution_count": 8,
   "metadata": {},
   "outputs": [
    {
     "name": "stdout",
     "output_type": "stream",
     "text": [
      "4\n",
      "3\n",
      "The sum of 4 and 3 is 7.\n"
     ]
    }
   ],
   "source": [
    "def fxy(x, y=3):\n",
    "    print(x)\n",
    "    print(y)\n",
    "    print(f'The sum of {x} and {y} is {x + y}.')\n",
    "fxy(4)"
   ]
  },
  {
   "cell_type": "code",
   "execution_count": 20,
   "metadata": {},
   "outputs": [
    {
     "data": {
      "text/plain": [
       "'16 divided by 8 is 2.0.'"
      ]
     },
     "execution_count": 20,
     "metadata": {},
     "output_type": "execute_result"
    }
   ],
   "source": [
    "def abc(a, b):\n",
    "    if a<=b:\n",
    "        z = (f'{b} divided by {a} is {b/a}.')\n",
    "    else:\n",
    "        z = (f'{a} divided by {b} is {a/b}.')\n",
    "    return z\n",
    "\n",
    "abc(8,16)"
   ]
  },
  {
   "cell_type": "code",
   "execution_count": 22,
   "metadata": {},
   "outputs": [
    {
     "name": "stdout",
     "output_type": "stream",
     "text": [
      "2.0\n"
     ]
    }
   ],
   "source": [
    "def div_xy(x, y):\n",
    "    if x >= y:\n",
    "        z = x / y\n",
    "    else:\n",
    "        z = y / x\n",
    "    return z\n",
    " \n",
    " \n",
    "answer = div_xy(y=10, x=5)\n",
    " \n",
    "print(answer)"
   ]
  },
  {
   "cell_type": "code",
   "execution_count": 24,
   "metadata": {},
   "outputs": [
    {
     "name": "stdout",
     "output_type": "stream",
     "text": [
      "(102, 2160)\n",
      "102\n"
     ]
    }
   ],
   "source": [
    "def sum_prod(num1, num2):\n",
    "    sum_12 = num1 + num2\n",
    "    prod_12 = num1 * num2\n",
    "\n",
    "    return sum_12, prod_12#\n",
    "\n",
    "answer = sum_prod(30, 72)\n",
    "print(answer)\n",
    "print(answer[0])"
   ]
  },
  {
   "cell_type": "code",
   "execution_count": 30,
   "metadata": {},
   "outputs": [
    {
     "data": {
      "text/plain": [
       "(3.0, 4)"
      ]
     },
     "execution_count": 30,
     "metadata": {},
     "output_type": "execute_result"
    }
   ],
   "source": [
    "\n",
    "def newfn(x, y):\n",
    "    if x >= y:\n",
    "        a = x\n",
    "        b = y\n",
    "    else:\n",
    "        a = y\n",
    "        b = x\n",
    "    return a/b, a-b\n",
    "newfn(6,2)\n"
   ]
  },
  {
   "cell_type": "code",
   "execution_count": 37,
   "metadata": {},
   "outputs": [
    {
     "name": "stdout",
     "output_type": "stream",
     "text": [
      "(9, 27)\n"
     ]
    }
   ],
   "source": [
    "list_1 = [1, 2, 3]\n",
    "list_2 = [2, 4, 6]\n",
    "\n",
    "#for i in list_1:\n",
    "#    for j in list_2:\n",
    "#?\n",
    "\n",
    "#def big_maths(x, y):\n",
    "#    i = x**2\n",
    "#    j = y**2\n",
    "#    def sq(x, y):\n",
    "#        return x**y\n",
    "\n",
    "def x_power_x(x):\n",
    "    return x**x\n",
    "def sq(x):\n",
    "    return x**2\n",
    "def big_math(x):\n",
    "    return sq(x), x_power_x(x)\n",
    "\n",
    "print(big_math(3))"
   ]
  },
  {
   "cell_type": "code",
   "execution_count": 40,
   "metadata": {},
   "outputs": [
    {
     "name": "stdout",
     "output_type": "stream",
     "text": [
      "(256, 4.0)\n"
     ]
    }
   ],
   "source": [
    "# In this cell, first, import the 'math' module.\n",
    "# Next, write a function that squares a number (hint: you can simply uses x*x),\n",
    "# Now write a function that uses math.sqrt() to find the square root of a number\n",
    "# (hint: https://docs.python.org/3/library/math.html#math.sqrt)\n",
    "# Then, write a funciton that performs both of these functions and returns both answers,\n",
    "# Finally, call the function getting two variables as your answer, and print them.\n",
    "\n",
    "import math \n",
    "def squ(x):\n",
    "    return x**x\n",
    "def sq_rt(y):\n",
    "    return math.sqrt(y)\n",
    "def tricky_maths(x, y):\n",
    "    return squ(x), sq_rt(y)\n",
    "\n",
    "print(tricky_maths(4, 16))"
   ]
  },
  {
   "cell_type": "code",
   "execution_count": 41,
   "metadata": {},
   "outputs": [],
   "source": [
    "import pandas as pd\n"
   ]
  },
  {
   "cell_type": "code",
   "execution_count": 42,
   "metadata": {},
   "outputs": [
    {
     "data": {
      "text/html": [
       "<div>\n",
       "<style scoped>\n",
       "    .dataframe tbody tr th:only-of-type {\n",
       "        vertical-align: middle;\n",
       "    }\n",
       "\n",
       "    .dataframe tbody tr th {\n",
       "        vertical-align: top;\n",
       "    }\n",
       "\n",
       "    .dataframe thead th {\n",
       "        text-align: right;\n",
       "    }\n",
       "</style>\n",
       "<table border=\"1\" class=\"dataframe\">\n",
       "  <thead>\n",
       "    <tr style=\"text-align: right;\">\n",
       "      <th></th>\n",
       "      <th>Unnamed: 0</th>\n",
       "      <th>LAchildID</th>\n",
       "      <th>Ethnicity</th>\n",
       "      <th>background</th>\n",
       "    </tr>\n",
       "  </thead>\n",
       "  <tbody>\n",
       "    <tr>\n",
       "      <th>0</th>\n",
       "      <td>0</td>\n",
       "      <td>RND000215205141</td>\n",
       "      <td>WIRT</td>\n",
       "      <td>White or mixed white</td>\n",
       "    </tr>\n",
       "    <tr>\n",
       "      <th>1</th>\n",
       "      <td>1</td>\n",
       "      <td>RND000824303014</td>\n",
       "      <td>WROM</td>\n",
       "      <td>White or mixed white</td>\n",
       "    </tr>\n",
       "    <tr>\n",
       "      <th>2</th>\n",
       "      <td>2</td>\n",
       "      <td>RND000750143123</td>\n",
       "      <td>AOTH</td>\n",
       "      <td>Not White</td>\n",
       "    </tr>\n",
       "    <tr>\n",
       "      <th>3</th>\n",
       "      <td>3</td>\n",
       "      <td>RND000909164501</td>\n",
       "      <td>MWBC</td>\n",
       "      <td>White or mixed white</td>\n",
       "    </tr>\n",
       "    <tr>\n",
       "      <th>4</th>\n",
       "      <td>4</td>\n",
       "      <td>RND000382171815</td>\n",
       "      <td>APKN</td>\n",
       "      <td>Not White</td>\n",
       "    </tr>\n",
       "    <tr>\n",
       "      <th>...</th>\n",
       "      <td>...</td>\n",
       "      <td>...</td>\n",
       "      <td>...</td>\n",
       "      <td>...</td>\n",
       "    </tr>\n",
       "    <tr>\n",
       "      <th>327</th>\n",
       "      <td>327</td>\n",
       "      <td>RND000112711501</td>\n",
       "      <td>WOTH</td>\n",
       "      <td>White or mixed white</td>\n",
       "    </tr>\n",
       "    <tr>\n",
       "      <th>328</th>\n",
       "      <td>328</td>\n",
       "      <td>RND000513120794</td>\n",
       "      <td>WROM</td>\n",
       "      <td>White or mixed white</td>\n",
       "    </tr>\n",
       "    <tr>\n",
       "      <th>329</th>\n",
       "      <td>329</td>\n",
       "      <td>RND000541643134</td>\n",
       "      <td>BCRB</td>\n",
       "      <td>Not White</td>\n",
       "    </tr>\n",
       "    <tr>\n",
       "      <th>330</th>\n",
       "      <td>330</td>\n",
       "      <td>RND000404939452</td>\n",
       "      <td>AIND</td>\n",
       "      <td>Not White</td>\n",
       "    </tr>\n",
       "    <tr>\n",
       "      <th>331</th>\n",
       "      <td>331</td>\n",
       "      <td>RND000589802835</td>\n",
       "      <td>WBRI</td>\n",
       "      <td>White or mixed white</td>\n",
       "    </tr>\n",
       "  </tbody>\n",
       "</table>\n",
       "<p>332 rows × 4 columns</p>\n",
       "</div>"
      ],
      "text/plain": [
       "     Unnamed: 0        LAchildID Ethnicity            background\n",
       "0             0  RND000215205141      WIRT  White or mixed white\n",
       "1             1  RND000824303014      WROM  White or mixed white\n",
       "2             2  RND000750143123      AOTH             Not White\n",
       "3             3  RND000909164501      MWBC  White or mixed white\n",
       "4             4  RND000382171815      APKN             Not White\n",
       "..          ...              ...       ...                   ...\n",
       "327         327  RND000112711501      WOTH  White or mixed white\n",
       "328         328  RND000513120794      WROM  White or mixed white\n",
       "329         329  RND000541643134      BCRB             Not White\n",
       "330         330  RND000404939452      AIND             Not White\n",
       "331         331  RND000589802835      WBRI  White or mixed white\n",
       "\n",
       "[332 rows x 4 columns]"
      ]
     },
     "execution_count": 42,
     "metadata": {},
     "output_type": "execute_result"
    }
   ],
   "source": [
    "df = pd.read_csv('https://raw.githubusercontent.com/data-to-insight/ERN-sessions/main/data/ChildCharacteristics.csv')\n",
    "\n",
    "def ethnic_check(ethnicity_code):\n",
    "    if 'W' in ethnicity_code:\n",
    "        return 'White or mixed white'\n",
    "    else:\n",
    "        return 'Not White'\n",
    "\n",
    "df['background'] = df['Ethnicity'].apply(ethnic_check)\n",
    "\n",
    "df"
   ]
  },
  {
   "cell_type": "code",
   "execution_count": 45,
   "metadata": {},
   "outputs": [
    {
     "name": "stdout",
     "output_type": "stream",
     "text": [
      "     Unnamed: 0        LAchildID            UPN  FormerUPN  UPNunknown  \\\n",
      "0             0  RND000215205141  A850728973744        NaN         NaN   \n",
      "1             1  RND000824303014  A141396438491        NaN         NaN   \n",
      "2             2  RND000750143123  A929946861554        NaN         NaN   \n",
      "3             3  RND000909164501  A612330267292        NaN         NaN   \n",
      "4             4  RND000382171815  A604459366806        NaN         NaN   \n",
      "..          ...              ...            ...        ...         ...   \n",
      "327         327  RND000112711501  A465246916125        NaN         NaN   \n",
      "328         328  RND000513120794  A540014111973        NaN         NaN   \n",
      "329         329  RND000541643134  A549582689058        NaN         NaN   \n",
      "330         330  RND000404939452  A889492349196        NaN         NaN   \n",
      "331         331  RND000589802835  A877624860226        NaN         NaN   \n",
      "\n",
      "    PersonBirthDate ExpectedPersonBirthDate  GenderCurrent PersonDeathDate  \n",
      "0        2019-12-06                     NaN              1             NaN  \n",
      "1        2011-04-27                     NaN              9             NaN  \n",
      "2        2017-06-06              2019-12-06              1             NaN  \n",
      "3        2014-10-03                     NaN              0             NaN  \n",
      "4        2019-09-25                     NaN              2             NaN  \n",
      "..              ...                     ...            ...             ...  \n",
      "327      2010-07-07                     NaN              2             NaN  \n",
      "328      2018-08-14                     NaN              2             NaN  \n",
      "329      2021-12-09                     NaN             51             NaN  \n",
      "330      2013-07-23                     NaN              2             NaN  \n",
      "331      2021-10-25                     NaN              9             NaN  \n",
      "\n",
      "[332 rows x 9 columns]\n"
     ]
    }
   ],
   "source": [
    "df = pd.read_csv('https://raw.githubusercontent.com/data-to-insight/ERN-sessions/main/data/ChildIdentifiers.csv')\n",
    "\n",
    "def cal_age(current_year):\n",
    "    return current_year - 'PersonBirthDate'\n",
    "\n",
    "def age_buckets(age):\n",
    "    if age <= 5:\n",
    "        return '0-5'\n",
    "    elif age <= 11:\n",
    "        return '6-11'\n",
    "    elif age <= 17:\n",
    "        return '12-17'\n",
    "    else:\n",
    "        return'18+'\n",
    "def add_age_buckets(df, current_year):\n",
    "    df['Age'] = df['BirthYear'].apply(lambda x: cal_age(x, current_year))\n",
    "    df['AgeBucket'] = df['Age'].apply(age_buckets)\n",
    "    return df\n",
    "\n",
    "current_year = 2024\n",
    "\n",
    "print(df)\n",
    "\n",
    "#failed"
   ]
  },
  {
   "cell_type": "code",
   "execution_count": 54,
   "metadata": {},
   "outputs": [
    {
     "data": {
      "text/html": [
       "<div>\n",
       "<style scoped>\n",
       "    .dataframe tbody tr th:only-of-type {\n",
       "        vertical-align: middle;\n",
       "    }\n",
       "\n",
       "    .dataframe tbody tr th {\n",
       "        vertical-align: top;\n",
       "    }\n",
       "\n",
       "    .dataframe thead th {\n",
       "        text-align: right;\n",
       "    }\n",
       "</style>\n",
       "<table border=\"1\" class=\"dataframe\">\n",
       "  <thead>\n",
       "    <tr style=\"text-align: right;\">\n",
       "      <th></th>\n",
       "      <th>PersonBirthDate</th>\n",
       "      <th>Age Bucket</th>\n",
       "    </tr>\n",
       "  </thead>\n",
       "  <tbody>\n",
       "    <tr>\n",
       "      <th>0</th>\n",
       "      <td>2019-12-06</td>\n",
       "      <td>0-5 years old</td>\n",
       "    </tr>\n",
       "    <tr>\n",
       "      <th>1</th>\n",
       "      <td>2011-04-27</td>\n",
       "      <td>over 18+</td>\n",
       "    </tr>\n",
       "    <tr>\n",
       "      <th>2</th>\n",
       "      <td>2017-06-06</td>\n",
       "      <td>6-11 years old</td>\n",
       "    </tr>\n",
       "    <tr>\n",
       "      <th>3</th>\n",
       "      <td>2014-10-03</td>\n",
       "      <td>6-11 years old</td>\n",
       "    </tr>\n",
       "    <tr>\n",
       "      <th>4</th>\n",
       "      <td>2019-09-25</td>\n",
       "      <td>0-5 years old</td>\n",
       "    </tr>\n",
       "    <tr>\n",
       "      <th>...</th>\n",
       "      <td>...</td>\n",
       "      <td>...</td>\n",
       "    </tr>\n",
       "    <tr>\n",
       "      <th>327</th>\n",
       "      <td>2010-07-07</td>\n",
       "      <td>over 18+</td>\n",
       "    </tr>\n",
       "    <tr>\n",
       "      <th>328</th>\n",
       "      <td>2018-08-14</td>\n",
       "      <td>0-5 years old</td>\n",
       "    </tr>\n",
       "    <tr>\n",
       "      <th>329</th>\n",
       "      <td>2021-12-09</td>\n",
       "      <td>0-5 years old</td>\n",
       "    </tr>\n",
       "    <tr>\n",
       "      <th>330</th>\n",
       "      <td>2013-07-23</td>\n",
       "      <td>6-11 years old</td>\n",
       "    </tr>\n",
       "    <tr>\n",
       "      <th>331</th>\n",
       "      <td>2021-10-25</td>\n",
       "      <td>0-5 years old</td>\n",
       "    </tr>\n",
       "  </tbody>\n",
       "</table>\n",
       "<p>332 rows × 2 columns</p>\n",
       "</div>"
      ],
      "text/plain": [
       "    PersonBirthDate      Age Bucket\n",
       "0        2019-12-06   0-5 years old\n",
       "1        2011-04-27        over 18+\n",
       "2        2017-06-06  6-11 years old\n",
       "3        2014-10-03  6-11 years old\n",
       "4        2019-09-25   0-5 years old\n",
       "..              ...             ...\n",
       "327      2010-07-07        over 18+\n",
       "328      2018-08-14   0-5 years old\n",
       "329      2021-12-09   0-5 years old\n",
       "330      2013-07-23  6-11 years old\n",
       "331      2021-10-25   0-5 years old\n",
       "\n",
       "[332 rows x 2 columns]"
      ]
     },
     "execution_count": 54,
     "metadata": {},
     "output_type": "execute_result"
    }
   ],
   "source": [
    "df = pd.read_csv('https://raw.githubusercontent.com/data-to-insight/ERN-sessions/main/data/ChildIdentifiers.csv')\n",
    "\n",
    "def bucket_maker(date_code):\n",
    "    bday = pd.to_datetime(date_code, format=\"%Y-%m-%d\")\n",
    "    today = pd.to_datetime('today')\n",
    "\n",
    "\n",
    "    if today < bday + pd.DateOffset(years=6):\n",
    "        return '0-5 years old'\n",
    "    elif today < bday + pd.DateOffset(years=12):\n",
    "        return '6-11 years old'\n",
    "    elif today < bday + pd.DateOffset(years=12):\n",
    "        return '12-17 years old'\n",
    "    else:\n",
    "        return 'over 18+'\n",
    "\n",
    "df['Age Bucket'] = df['PersonBirthDate'].apply(bucket_maker)\n",
    "\n",
    "df[['PersonBirthDate', 'Age Bucket']]"
   ]
  },
  {
   "cell_type": "code",
   "execution_count": 57,
   "metadata": {},
   "outputs": [
    {
     "ename": "NameError",
     "evalue": "name 'date' is not defined",
     "output_type": "error",
     "traceback": [
      "\u001b[0;31m---------------------------------------------------------------------------\u001b[0m",
      "\u001b[0;31mNameError\u001b[0m                                 Traceback (most recent call last)",
      "Cell \u001b[0;32mIn[57], line 1\u001b[0m\n\u001b[0;32m----> 1\u001b[0m bd \u001b[38;5;241m=\u001b[39m pd\u001b[38;5;241m.\u001b[39mto_datetime(\u001b[43mdate\u001b[49m, \u001b[38;5;28mformat\u001b[39m\u001b[38;5;241m=\u001b[39m\u001b[38;5;124m\"\u001b[39m\u001b[38;5;124m%\u001b[39m\u001b[38;5;124mY-\u001b[39m\u001b[38;5;124m%\u001b[39m\u001b[38;5;124mm-\u001b[39m\u001b[38;5;132;01m%d\u001b[39;00m\u001b[38;5;124m\"\u001b[39m)\n\u001b[1;32m      3\u001b[0m age \u001b[38;5;241m=\u001b[39m pd\u001b[38;5;241m.\u001b[39mto_datetime(\u001b[38;5;124m'\u001b[39m\u001b[38;5;124mtoday\u001b[39m\u001b[38;5;124m'\u001b[39m) \u001b[38;5;241m-\u001b[39m bd\n\u001b[1;32m      5\u001b[0m age \u001b[38;5;241m=\u001b[39m age \u001b[38;5;241m/\u001b[39m pd\u001b[38;5;241m.\u001b[39mTimedelta(\u001b[38;5;241m365.25\u001b[39m, \u001b[38;5;124m'\u001b[39m\u001b[38;5;124md\u001b[39m\u001b[38;5;124m'\u001b[39m)\n",
      "\u001b[0;31mNameError\u001b[0m: name 'date' is not defined"
     ]
    }
   ],
   "source": [
    "    bd = pd.to_datetime(date, format=\"%Y-%m-%d\")\n",
    " \n",
    "    age = pd.to_datetime('today') - bd\n",
    " \n",
    "    age = age / pd.Timedelta(365.25, 'd')\n",
    " \n",
    "    if age < 6:\n",
    "        return '0 - 5 years old'\n",
    "    elif age < 12:\n",
    "        return '6 - 11 years old'\n",
    "    elif age < 18:\n",
    "        return '12 - 17 years old'\n",
    "    else:\n",
    "        return '18+ years old'\n",
    "   \n",
    "CI_task['Age bucket'] = CI_task['PersonBirthDate'].apply(age_bucket)\n",
    " \n",
    "CI_task[['PersonBirthDate', 'Age bucket']]"
   ]
  },
  {
   "cell_type": "code",
   "execution_count": 55,
   "metadata": {},
   "outputs": [
    {
     "data": {
      "text/html": [
       "<div>\n",
       "<style scoped>\n",
       "    .dataframe tbody tr th:only-of-type {\n",
       "        vertical-align: middle;\n",
       "    }\n",
       "\n",
       "    .dataframe tbody tr th {\n",
       "        vertical-align: top;\n",
       "    }\n",
       "\n",
       "    .dataframe thead th {\n",
       "        text-align: right;\n",
       "    }\n",
       "</style>\n",
       "<table border=\"1\" class=\"dataframe\">\n",
       "  <thead>\n",
       "    <tr style=\"text-align: right;\">\n",
       "      <th></th>\n",
       "      <th>PersonBirthDate</th>\n",
       "      <th>Age Bucket</th>\n",
       "    </tr>\n",
       "  </thead>\n",
       "  <tbody>\n",
       "    <tr>\n",
       "      <th>0</th>\n",
       "      <td>2019-12-06</td>\n",
       "      <td>0-5 years old</td>\n",
       "    </tr>\n",
       "    <tr>\n",
       "      <th>1</th>\n",
       "      <td>2011-04-27</td>\n",
       "      <td>12-17 years old</td>\n",
       "    </tr>\n",
       "    <tr>\n",
       "      <th>2</th>\n",
       "      <td>2017-06-06</td>\n",
       "      <td>6-11 years old</td>\n",
       "    </tr>\n",
       "    <tr>\n",
       "      <th>3</th>\n",
       "      <td>2014-10-03</td>\n",
       "      <td>6-11 years old</td>\n",
       "    </tr>\n",
       "    <tr>\n",
       "      <th>4</th>\n",
       "      <td>2019-09-25</td>\n",
       "      <td>0-5 years old</td>\n",
       "    </tr>\n",
       "    <tr>\n",
       "      <th>...</th>\n",
       "      <td>...</td>\n",
       "      <td>...</td>\n",
       "    </tr>\n",
       "    <tr>\n",
       "      <th>327</th>\n",
       "      <td>2010-07-07</td>\n",
       "      <td>12-17 years old</td>\n",
       "    </tr>\n",
       "    <tr>\n",
       "      <th>328</th>\n",
       "      <td>2018-08-14</td>\n",
       "      <td>0-5 years old</td>\n",
       "    </tr>\n",
       "    <tr>\n",
       "      <th>329</th>\n",
       "      <td>2021-12-09</td>\n",
       "      <td>0-5 years old</td>\n",
       "    </tr>\n",
       "    <tr>\n",
       "      <th>330</th>\n",
       "      <td>2013-07-23</td>\n",
       "      <td>6-11 years old</td>\n",
       "    </tr>\n",
       "    <tr>\n",
       "      <th>331</th>\n",
       "      <td>2021-10-25</td>\n",
       "      <td>0-5 years old</td>\n",
       "    </tr>\n",
       "  </tbody>\n",
       "</table>\n",
       "<p>332 rows × 2 columns</p>\n",
       "</div>"
      ],
      "text/plain": [
       "    PersonBirthDate       Age Bucket\n",
       "0        2019-12-06    0-5 years old\n",
       "1        2011-04-27  12-17 years old\n",
       "2        2017-06-06   6-11 years old\n",
       "3        2014-10-03   6-11 years old\n",
       "4        2019-09-25    0-5 years old\n",
       "..              ...              ...\n",
       "327      2010-07-07  12-17 years old\n",
       "328      2018-08-14    0-5 years old\n",
       "329      2021-12-09    0-5 years old\n",
       "330      2013-07-23   6-11 years old\n",
       "331      2021-10-25    0-5 years old\n",
       "\n",
       "[332 rows x 2 columns]"
      ]
     },
     "execution_count": 55,
     "metadata": {},
     "output_type": "execute_result"
    }
   ],
   "source": [
    "df = pd.read_csv('https://raw.githubusercontent.com/data-to-insight/ERN-sessions/main/data/ChildIdentifiers.csv')\n",
    " \n",
    " \n",
    "def bucket_maker(date_code):\n",
    "    bday = pd.to_datetime(date_code, format=\"%Y-%m-%d\")\n",
    "    today = pd.to_datetime('today')\n",
    " \n",
    "    age = today - bday\n",
    "    age = age / pd.Timedelta(365.25, 'd')\n",
    " \n",
    "    if age < 6:\n",
    "        return '0-5 years old'\n",
    "    elif age < 12:\n",
    "        return '6-11 years old'\n",
    "    elif age < 18:\n",
    "        return '12-17 years old'\n",
    "    else:\n",
    "        return '18+ years old'\n",
    " \n",
    "df['Age Bucket'] = df['PersonBirthDate'].apply(bucket_maker)\n",
    " \n",
    "df[['PersonBirthDate', 'Age Bucket']]"
   ]
  },
  {
   "cell_type": "code",
   "execution_count": 56,
   "metadata": {},
   "outputs": [
    {
     "name": "stdout",
     "output_type": "stream",
     "text": [
      "    PersonBirthDate       Age Bucket\n",
      "0        2019-12-06    0-5 years old\n",
      "1        2011-04-27  12-17 years old\n",
      "2        2017-06-06   6-11 years old\n",
      "3        2014-10-03   6-11 years old\n",
      "4        2019-09-25    0-5 years old\n",
      "..              ...              ...\n",
      "327      2010-07-07  12-17 years old\n",
      "328      2018-08-14    0-5 years old\n",
      "329      2021-12-09    0-5 years old\n",
      "330      2013-07-23   6-11 years old\n",
      "331      2021-10-25    0-5 years old\n",
      "\n",
      "[332 rows x 2 columns]\n"
     ]
    }
   ],
   "source": [
    "df = pd.read_csv('https://raw.githubusercontent.com/data-to-insight/ERN-sessions/main/data/ChildIdentifiers.csv')\n",
    "\n",
    "def bucket_maker(date_code):\n",
    "    bday = pd.to_datetime(date_code, format=\"%Y-%m-%d\")\n",
    "    today = pd.to_datetime('today')\n",
    "    \n",
    "    # Calculate the age using DateOffset and correct comparisons\n",
    "    if today < bday + pd.DateOffset(years=6):\n",
    "        return '0-5 years old'\n",
    "    elif today < bday + pd.DateOffset(years=12):\n",
    "        return '6-11 years old'\n",
    "    elif today < bday + pd.DateOffset(years=18):\n",
    "        return '12-17 years old'\n",
    "    else:\n",
    "        return 'over 18+'\n",
    "\n",
    "# Apply the bucket_maker function to the 'PersonBirthDate' column\n",
    "df['Age Bucket'] = df['PersonBirthDate'].apply(bucket_maker)\n",
    "\n",
    "# Display the 'PersonBirthDate' and 'Age Bucket' columns\n",
    "print(df[['PersonBirthDate', 'Age Bucket']])"
   ]
  }
 ],
 "metadata": {
  "kernelspec": {
   "display_name": "Python 3",
   "language": "python",
   "name": "python3"
  },
  "language_info": {
   "codemirror_mode": {
    "name": "ipython",
    "version": 3
   },
   "file_extension": ".py",
   "mimetype": "text/x-python",
   "name": "python",
   "nbconvert_exporter": "python",
   "pygments_lexer": "ipython3",
   "version": "3.10.13"
  }
 },
 "nbformat": 4,
 "nbformat_minor": 2
}
